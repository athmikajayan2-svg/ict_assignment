{
  "nbformat": 4,
  "nbformat_minor": 0,
  "metadata": {
    "colab": {
      "provenance": [],
      "authorship_tag": "ABX9TyPlvBMGw7nmpjWxZCMGCwUN",
      "include_colab_link": true
    },
    "kernelspec": {
      "name": "python3",
      "display_name": "Python 3"
    },
    "language_info": {
      "name": "python"
    }
  },
  "cells": [
    {
      "cell_type": "markdown",
      "metadata": {
        "id": "view-in-github",
        "colab_type": "text"
      },
      "source": [
        "<a href=\"https://colab.research.google.com/github/athmikajayan2-svg/ict_assignment/blob/main/assignment01_athmika.ipynb\" target=\"_parent\"><img src=\"https://colab.research.google.com/assets/colab-badge.svg\" alt=\"Open In Colab\"/></a>"
      ]
    },
    {
      "cell_type": "markdown",
      "source": [
        "1.\n",
        "\n"
      ],
      "metadata": {
        "id": "Xxf4Sb36DuOt"
      }
    },
    {
      "cell_type": "code",
      "execution_count": null,
      "metadata": {
        "colab": {
          "base_uri": "https://localhost:8080/"
        },
        "id": "fEUapUQAVX0i",
        "outputId": "bc6b06c9-0d73-4942-8391-b51ce348b7e3"
      },
      "outputs": [
        {
          "output_type": "stream",
          "name": "stdout",
          "text": [
            "enter item1 price: 10\n",
            "enter item1 quantity: 2\n",
            "enter item2 price: 20\n",
            "enter item2 quantity: 3\n",
            "80\n"
          ]
        }
      ],
      "source": [
        "a = int(input('enter item1 price: '))\n",
        "b = int(input('enter item1 quantity: '))\n",
        "c = int(input('enter item2 price: '))\n",
        "d = int(input('enter item2 quantity: '))\n",
        "t = a*b+c*d\n",
        "print(t)"
      ]
    },
    {
      "cell_type": "markdown",
      "source": [
        "2."
      ],
      "metadata": {
        "id": "ue-H71zIDsAU"
      }
    },
    {
      "cell_type": "code",
      "source": [
        "c = int(input('enter temp in celsius'))\n",
        "f = (c*9/5)+32\n",
        "print(f)"
      ],
      "metadata": {
        "colab": {
          "base_uri": "https://localhost:8080/"
        },
        "id": "9g2dlN80Xu2H",
        "outputId": "ac0d0dd8-e1e6-4644-cf13-dc689de0f5fa"
      },
      "execution_count": null,
      "outputs": [
        {
          "output_type": "stream",
          "name": "stdout",
          "text": [
            "enter temp in celsius30\n",
            "86.0\n"
          ]
        }
      ]
    },
    {
      "cell_type": "markdown",
      "source": [
        "3."
      ],
      "metadata": {
        "id": "13XNCBgtDpLs"
      }
    },
    {
      "cell_type": "code",
      "source": [
        "a = float(input(\"enter basic salary: \") )\n",
        "n = a+(0.20*a)+(0.10*a)\n",
        "print(\"net salary: \",n)\n"
      ],
      "metadata": {
        "colab": {
          "base_uri": "https://localhost:8080/"
        },
        "id": "eyP_rOHGd0Tu",
        "outputId": "71035c5d-4d7b-4a6d-8a3b-d9f46649c23b"
      },
      "execution_count": null,
      "outputs": [
        {
          "output_type": "stream",
          "name": "stdout",
          "text": [
            "enter basic salary: 20000\n",
            "net salary:  26000.0\n"
          ]
        }
      ]
    },
    {
      "cell_type": "markdown",
      "source": [
        "4."
      ],
      "metadata": {
        "id": "fiReCqBrDm-U"
      }
    },
    {
      "cell_type": "code",
      "source": [
        "p = float(input(\"principle amount: \"))\n",
        "r = float(input(\"rate of intrest: \"))\n",
        "t = float(input(\"time: \"))\n",
        "si = (p*r*t)/100\n",
        "print(si)"
      ],
      "metadata": {
        "id": "nJ8z4oX4gDSU",
        "colab": {
          "base_uri": "https://localhost:8080/"
        },
        "outputId": "3dd38096-a911-4bf9-ea00-40b96bdfe08b"
      },
      "execution_count": 1,
      "outputs": [
        {
          "output_type": "stream",
          "name": "stdout",
          "text": [
            "principle amount: 10000\n",
            "rate of intrest: 5\n",
            "time: 2\n",
            "1000.0\n"
          ]
        }
      ]
    },
    {
      "cell_type": "markdown",
      "source": [
        "5."
      ],
      "metadata": {
        "id": "QGQZyt2_Dik0"
      }
    },
    {
      "cell_type": "code",
      "source": [
        "minutes = float(input(\"enter total input: \"))\n",
        "hours = minutes/60\n",
        "print(hours)"
      ],
      "metadata": {
        "colab": {
          "base_uri": "https://localhost:8080/"
        },
        "id": "l2kohplP5-ug",
        "outputId": "cbfe67f3-31d1-476e-dac6-537a5b5ca26f"
      },
      "execution_count": 2,
      "outputs": [
        {
          "output_type": "stream",
          "name": "stdout",
          "text": [
            "enter total input: 130\n",
            "2.1666666666666665\n"
          ]
        }
      ]
    },
    {
      "cell_type": "markdown",
      "source": [
        "6."
      ],
      "metadata": {
        "id": "YGygBOSfDfw8"
      }
    },
    {
      "cell_type": "code",
      "source": [
        "weight_kg = float(input(\"enter weight in kg:\"))\n",
        "height_m = float(input(\"enter height in m:\"))\n",
        "bmi = weight_kg / (height_m ** 2)\n",
        "print(\"bmi:\",bmi)\n"
      ],
      "metadata": {
        "colab": {
          "base_uri": "https://localhost:8080/"
        },
        "id": "ljcAZFDl8v8l",
        "outputId": "837e14b0-0ae9-48bc-cc08-52908fd9d3e5"
      },
      "execution_count": 3,
      "outputs": [
        {
          "output_type": "stream",
          "name": "stdout",
          "text": [
            "enter weight in kg:60\n",
            "enter height in m:1.65\n",
            "bmi: 22.03856749311295\n"
          ]
        }
      ]
    },
    {
      "cell_type": "markdown",
      "source": [
        "7."
      ],
      "metadata": {
        "id": "e0mHqSOLDbRF"
      }
    },
    {
      "cell_type": "code",
      "source": [
        "ogprice = int(input(\"Enter the price:\"))\n",
        "dis = ogprice - ogprice * 10/100\n",
        "print(dis)"
      ],
      "metadata": {
        "colab": {
          "base_uri": "https://localhost:8080/"
        },
        "id": "1MeXdxuu_gOL",
        "outputId": "3d688977-9f63-4e28-dea6-98722da7b47b"
      },
      "execution_count": 4,
      "outputs": [
        {
          "output_type": "stream",
          "name": "stdout",
          "text": [
            "Enter the price:1200\n",
            "1080.0\n"
          ]
        }
      ]
    },
    {
      "cell_type": "markdown",
      "source": [
        "8."
      ],
      "metadata": {
        "id": "jSWZdz_RDz0E"
      }
    },
    {
      "cell_type": "code",
      "source": [
        "a=float(input(\"enter side a\"))\n",
        "b=float(input(\"enter side b\"))\n",
        "c=float(input(\"enter side c\"))\n",
        "s=(a+b+c)/2\n",
        "area=(s*(s-a)*(s-b)*(s-c))**0.5\n",
        "print(area)\n",
        "#"
      ],
      "metadata": {
        "colab": {
          "base_uri": "https://localhost:8080/"
        },
        "id": "O-3Mu2XYEMwm",
        "outputId": "c502f05e-fba8-4ef2-a64c-835ffc5d179a"
      },
      "execution_count": 6,
      "outputs": [
        {
          "output_type": "stream",
          "name": "stdout",
          "text": [
            "enter side a5\n",
            "enter side b6\n",
            "enter side c7\n",
            "14.696938456699069\n"
          ]
        }
      ]
    },
    {
      "cell_type": "markdown",
      "source": [
        "9."
      ],
      "metadata": {
        "id": "xENkz_o2Fa9U"
      }
    },
    {
      "cell_type": "code",
      "source": [
        "print(\"Paint Cost Estimator\")\n",
        "l = float(input(\"Enter length of the wall:\"))\n",
        "b = float(input(\"Enter breadth of the wall:\"))\n",
        "area = l * b\n",
        "area_w = 2*(1.5 * 1.2)\n",
        "paint = area - area_w\n",
        "print(paint,\"sq.m\")\n",
        "cost = paint * 25\n",
        "print(cost)"
      ],
      "metadata": {
        "colab": {
          "base_uri": "https://localhost:8080/"
        },
        "id": "bynODHY_E7VE",
        "outputId": "60954f3c-4033-4c01-e209-db2b4e76c3d3"
      },
      "execution_count": 7,
      "outputs": [
        {
          "output_type": "stream",
          "name": "stdout",
          "text": [
            "Paint Cost Estimator\n",
            "Enter length of the wall:12\n",
            "Enter breadth of the wall:8\n",
            "92.4 sq.m\n",
            "2310.0\n"
          ]
        }
      ]
    },
    {
      "cell_type": "markdown",
      "source": [
        "10."
      ],
      "metadata": {
        "id": "qZDJGBJhRahf"
      }
    },
    {
      "cell_type": "code",
      "source": [
        "a = float(input(\"Enter number of units consumed: \"))\n",
        "r = 5.2\n",
        "f = 100\n",
        "bill_amount = (a * r) + f\n",
        "print(\"Electricity Bill = \",bill_amount)"
      ],
      "metadata": {
        "colab": {
          "base_uri": "https://localhost:8080/"
        },
        "id": "1CfZLGO_FmNE",
        "outputId": "cd2cd8eb-7b78-4836-f380-e994ac462fe0"
      },
      "execution_count": 8,
      "outputs": [
        {
          "output_type": "stream",
          "name": "stdout",
          "text": [
            "Enter number of units consumed: 250\n",
            "Electricity Bill =  1400.0\n"
          ]
        }
      ]
    },
    {
      "cell_type": "code",
      "source": [],
      "metadata": {
        "id": "ZKxL1qRtRy-g"
      },
      "execution_count": null,
      "outputs": []
    }
  ]
}