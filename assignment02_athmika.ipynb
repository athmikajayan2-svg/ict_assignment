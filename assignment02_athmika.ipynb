{
  "nbformat": 4,
  "nbformat_minor": 0,
  "metadata": {
    "colab": {
      "provenance": [],
      "authorship_tag": "ABX9TyNzThXJcQod++h/WjIvwKOt",
      "include_colab_link": true
    },
    "kernelspec": {
      "name": "python3",
      "display_name": "Python 3"
    },
    "language_info": {
      "name": "python"
    }
  },
  "cells": [
    {
      "cell_type": "markdown",
      "metadata": {
        "id": "view-in-github",
        "colab_type": "text"
      },
      "source": [
        "<a href=\"https://colab.research.google.com/github/athmikajayan2-svg/ict_assignment/blob/main/assignment02_athmika.ipynb\" target=\"_parent\"><img src=\"https://colab.research.google.com/assets/colab-badge.svg\" alt=\"Open In Colab\"/></a>"
      ]
    },
    {
      "cell_type": "markdown",
      "source": [
        "1.\n"
      ],
      "metadata": {
        "id": "Pca_Dyy-B1dJ"
      }
    },
    {
      "cell_type": "code",
      "execution_count": 6,
      "metadata": {
        "colab": {
          "base_uri": "https://localhost:8080/"
        },
        "id": "cCWDFfnMAkYS",
        "outputId": "9747aa6e-83ca-4d64-cc33-38ae3ca64991"
      },
      "outputs": [
        {
          "output_type": "stream",
          "name": "stdout",
          "text": [
            "1\n",
            "2\n",
            "3 = fizz\n",
            "4\n",
            "5 = buzz\n",
            "6 = fizz\n",
            "7\n",
            "8\n",
            "9 = fizz\n",
            "10 = buzz\n",
            "11\n",
            "12 = fizz\n",
            "13\n",
            "14\n",
            "15 =fizzbuzz\n",
            "16\n",
            "17\n",
            "18 = fizz\n",
            "19\n",
            "20 = buzz\n",
            "21 = fizz\n",
            "22\n",
            "23\n",
            "24 = fizz\n",
            "25 = buzz\n",
            "26\n",
            "27 = fizz\n",
            "28\n",
            "29\n",
            "30 =fizzbuzz\n",
            "31\n",
            "32\n",
            "33 = fizz\n",
            "34\n",
            "35 = buzz\n",
            "36 = fizz\n",
            "37\n",
            "38\n",
            "39 = fizz\n",
            "40 = buzz\n",
            "41\n",
            "42 = fizz\n",
            "43\n",
            "44\n",
            "45 =fizzbuzz\n",
            "46\n",
            "47\n",
            "48 = fizz\n",
            "49\n",
            "50 = buzz\n",
            "51 = fizz\n",
            "52\n",
            "53\n",
            "54 = fizz\n",
            "55 = buzz\n",
            "56\n",
            "57 = fizz\n",
            "58\n",
            "59\n",
            "60 =fizzbuzz\n",
            "61\n",
            "62\n",
            "63 = fizz\n",
            "64\n",
            "65 = buzz\n",
            "66 = fizz\n",
            "67\n",
            "68\n",
            "69 = fizz\n",
            "70 = buzz\n",
            "71\n",
            "72 = fizz\n",
            "73\n",
            "74\n",
            "75 =fizzbuzz\n",
            "76\n",
            "77\n",
            "78 = fizz\n",
            "79\n",
            "80 = buzz\n",
            "81 = fizz\n",
            "82\n",
            "83\n",
            "84 = fizz\n",
            "85 = buzz\n",
            "86\n",
            "87 = fizz\n",
            "88\n",
            "89\n",
            "90 =fizzbuzz\n",
            "91\n",
            "92\n",
            "93 = fizz\n",
            "94\n",
            "95 = buzz\n",
            "96 = fizz\n",
            "97\n",
            "98\n",
            "99 = fizz\n",
            "100 = buzz\n"
          ]
        }
      ],
      "source": [
        "for i in range(1,101):\n",
        "  if i%3==0 and i%5==0:\n",
        "    print(i,'=fizzbuzz')\n",
        "  elif i%3==0:\n",
        "      print(i,'= fizz')\n",
        "  elif i%5==0:\n",
        "     print(i,'= buzz')\n",
        "  else:\n",
        "     print(i)"
      ]
    },
    {
      "cell_type": "markdown",
      "source": [
        "2."
      ],
      "metadata": {
        "id": "2xXw2QlsERpN"
      }
    },
    {
      "cell_type": "code",
      "source": [
        "unit = float(input(\"Enter the number of units consumed: \"))\n",
        "bill_amount = 0\n",
        "if unit<=100:\n",
        "  bill_amount = unit*5\n",
        "elif unit<=200:\n",
        "  bill_amount = (100*5)+(unit-100)*7\n",
        "else:\n",
        "  bill_amount = (100*5)+(100*7)+((unit-200)*10)\n",
        "  print(\"Total Bill Amount = ₹\",bill_amount)"
      ],
      "metadata": {
        "colab": {
          "base_uri": "https://localhost:8080/"
        },
        "id": "28Zz_BeZDgpe",
        "outputId": "366cebc0-d5e2-47fb-ab01-b2e9ac72aa13"
      },
      "execution_count": 8,
      "outputs": [
        {
          "output_type": "stream",
          "name": "stdout",
          "text": [
            "Enter the number of units consumed: 245\n",
            "Total Bill Amount = ₹ 1650.0\n"
          ]
        }
      ]
    },
    {
      "cell_type": "markdown",
      "source": [
        "3."
      ],
      "metadata": {
        "id": "NwU3bm1WHKCB"
      }
    },
    {
      "cell_type": "code",
      "source": [
        "for i in range(1,6):\n",
        "  print('*' * i)"
      ],
      "metadata": {
        "colab": {
          "base_uri": "https://localhost:8080/"
        },
        "id": "BC6dl8WYHDeA",
        "outputId": "7e07a282-3dc5-42d2-ef92-923ba82a38c9"
      },
      "execution_count": 9,
      "outputs": [
        {
          "output_type": "stream",
          "name": "stdout",
          "text": [
            "*\n",
            "**\n",
            "***\n",
            "****\n",
            "*****\n"
          ]
        }
      ]
    },
    {
      "cell_type": "markdown",
      "source": [
        "4."
      ],
      "metadata": {
        "id": "-pkfJ06tIiw_"
      }
    },
    {
      "cell_type": "code",
      "source": [
        "p = input('Enter num/str to be checked: ')\n",
        "rev = p[::-1]\n",
        "if p == rev:\n",
        "   print(\"given num/str is a palindrome\")\n",
        "else:\n",
        "   print(\"Given num/str is not palindrome\")"
      ],
      "metadata": {
        "colab": {
          "base_uri": "https://localhost:8080/"
        },
        "id": "wuW_OcJ2J_i-",
        "outputId": "7e9bead5-7659-491b-a5d6-6a75c7d29f7c"
      },
      "execution_count": 12,
      "outputs": [
        {
          "output_type": "stream",
          "name": "stdout",
          "text": [
            "Enter num/str to be checked: 121\n",
            "given num/str is a palindrome\n"
          ]
        }
      ]
    },
    {
      "cell_type": "code",
      "source": [],
      "metadata": {
        "id": "Y3CfDidsLnZL"
      },
      "execution_count": null,
      "outputs": []
    }
  ]
}